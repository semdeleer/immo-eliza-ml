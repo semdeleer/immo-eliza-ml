{
 "cells": [
  {
   "cell_type": "code",
   "execution_count": 126,
   "metadata": {},
   "outputs": [],
   "source": [
    "import pandas as pd\n",
    "import seaborn as sns\n",
    "import numpy as np \n",
    "from sklearn.preprocessing import OneHotEncoder \n",
    "from sklearn.model_selection import train_test_split\n",
    "from sklearn.impute import KNNImputer\n",
    "from sklearn.linear_model import LinearRegression\n",
    "from sklearn.metrics import r2_score\n",
    "import matplotlib.pyplot as plt\n",
    "from sklearn.preprocessing import StandardScaler\n",
    "from sklearn.preprocessing import LabelEncoder\n",
    "from sklearn.feature_selection import chi2, SelectKBest\n",
    "from sklearn.model_selection import cross_val_predict"
   ]
  },
  {
   "cell_type": "code",
   "execution_count": 127,
   "metadata": {},
   "outputs": [],
   "source": [
    "url = r\"..\\data\\raw\\clean_house.csv\"\n",
    "house = pd.read_csv(url, sep=\",\")"
   ]
  },
  {
   "cell_type": "markdown",
   "metadata": {},
   "source": [
    "## Functions"
   ]
  },
  {
   "cell_type": "code",
   "execution_count": 128,
   "metadata": {},
   "outputs": [],
   "source": [
    "def replace_outliers(df, columns):\n",
    "    for column in columns:\n",
    "    # Outliers handling\n",
    "        Q1 = df[column].quantile(0.25)\n",
    "        Q3 = df[column].quantile(0.75)\n",
    "        IQR = Q3 - Q1\n",
    "\n",
    "        max_value = Q3 + (1.5 * IQR)\n",
    "        min_value = Q1 - (1.5 * IQR)\n",
    "\n",
    "        outliers_mask = (df[column] < min_value) | (df[column] > max_value)\n",
    "        df.loc[outliers_mask, column] = np.nan\n",
    "\n",
    "        df.dropna(subset=[column], inplace=True)\n",
    "    return df"
   ]
  },
  {
   "cell_type": "code",
   "execution_count": 129,
   "metadata": {},
   "outputs": [],
   "source": [
    "def drop_columns(df, clist):\n",
    "    ndf = df.drop(columns=clist)\n",
    "    return ndf\n"
   ]
  },
  {
   "cell_type": "code",
   "execution_count": 130,
   "metadata": {},
   "outputs": [],
   "source": [
    "# dropping the NaN values in the columns selected\n",
    "def droping_null(df, colist):\n",
    "    df.dropna(subset=colist, inplace=True)\n",
    "    return df"
   ]
  },
  {
   "cell_type": "code",
   "execution_count": 131,
   "metadata": {},
   "outputs": [],
   "source": [
    "def transform_categorical(df, clist):\n",
    "    for column in clist:\n",
    "        # One-hot encode the current column\n",
    "        ohe = OneHotEncoder(handle_unknown='ignore', sparse_output=False)\n",
    "        X_ohe = ohe.fit_transform(df[[column]])\n",
    "        \n",
    "        # Convert the one-hot encoded features to a DataFrame\n",
    "        ohe_df = pd.DataFrame(X_ohe, columns=ohe.get_feature_names_out())\n",
    "        \n",
    "        # Concatenate the original DataFrame with the one-hot encoded DataFrame\n",
    "        df = pd.concat([df, ohe_df], axis=1)\n",
    "        \n",
    "        # Drop the original categorical column\n",
    "        df.drop(columns=[column], inplace=True)\n",
    "\n",
    "    return df"
   ]
  },
  {
   "cell_type": "code",
   "execution_count": 132,
   "metadata": {},
   "outputs": [],
   "source": [
    "def tranform_label_encoder(df, clist):\n",
    "    for column in clist:\n",
    "        le = LabelEncoder()\n",
    "        df[column] = le.fit_transform(df[column])\n",
    "    return df\n"
   ]
  },
  {
   "cell_type": "code",
   "execution_count": 133,
   "metadata": {},
   "outputs": [],
   "source": [
    "def create_X_y(df, Y):\n",
    "    X = df.drop(columns=[Y])\n",
    "    y = df[[Y]]\n",
    "    return X, y"
   ]
  },
  {
   "cell_type": "code",
   "execution_count": 134,
   "metadata": {},
   "outputs": [],
   "source": [
    "def replace_NaN_Categorical(df, comlist):\n",
    "    df[comlist] = df[comlist].fillna(0.0)"
   ]
  },
  {
   "cell_type": "code",
   "execution_count": 135,
   "metadata": {},
   "outputs": [],
   "source": [
    "def change_to_int(df, columnsname):\n",
    "    for column in columnsname:\n",
    "        df[column] = df[column].round().astype(int)\n",
    "    return df"
   ]
  },
  {
   "cell_type": "code",
   "execution_count": 136,
   "metadata": {},
   "outputs": [],
   "source": [
    "def replace_null_median(df, columnname):\n",
    "    for column in columnname:\n",
    "        condition_1 = (df[column].isnull())\n",
    "        df.loc[condition_1, column] = df[column].median()\n",
    "    return df"
   ]
  },
  {
   "cell_type": "code",
   "execution_count": 137,
   "metadata": {},
   "outputs": [],
   "source": [
    "def replace_null_min_one(df, columnname):\n",
    "    for column in columnname:\n",
    "        condition_1 = (df[column].isnull())\n",
    "        df.loc[condition_1, column] = -1\n",
    "    return df"
   ]
  },
  {
   "cell_type": "code",
   "execution_count": 138,
   "metadata": {},
   "outputs": [],
   "source": [
    "def replace_null_mean(df, columnname):\n",
    "\n",
    "    for column in columnname:\n",
    "        condition_1 = (df[column].isnull())\n",
    "        df.loc[condition_1, column] = df[column].mean()\n",
    "    return df"
   ]
  },
  {
   "cell_type": "code",
   "execution_count": 139,
   "metadata": {},
   "outputs": [],
   "source": [
    "def replace_null_to_zero(df, columnname):\n",
    "\n",
    "    for column in columnname:\n",
    "        condition_1 = (df[column].isnull())\n",
    "        df.loc[condition_1, column] = 0\n",
    "    return df"
   ]
  },
  {
   "cell_type": "code",
   "execution_count": 140,
   "metadata": {},
   "outputs": [],
   "source": [
    "def scaling(df, cl):\n",
    "    for column in cl:\n",
    "        scaler = StandardScaler()\n",
    "        #Fit and transform the data\n",
    "        df[column] = scaler.fit_transform(df[[column]])\n",
    "    return df"
   ]
  },
  {
   "cell_type": "markdown",
   "metadata": {},
   "source": [
    "# code"
   ]
  },
  {
   "cell_type": "markdown",
   "metadata": {},
   "source": [
    "## Single linear regression"
   ]
  },
  {
   "cell_type": "code",
   "execution_count": 141,
   "metadata": {},
   "outputs": [
    {
     "name": "stdout",
     "output_type": "stream",
     "text": [
      "the score is (train):0.40304835825471796\n",
      "the score is (test): 0.42041877849722276\n",
      "the Rscore is: 0.42041877849722276\n"
     ]
    },
    {
     "data": {
      "text/plain": [
       "<matplotlib.collections.PathCollection at 0x18df3955010>"
      ]
     },
     "execution_count": 141,
     "metadata": {},
     "output_type": "execute_result"
    },
    {
     "data": {
      "image/png": "[encoded data removed]",
      "text/plain": [
       "<Figure size 640x480 with 1 Axes>"
      ]
     },
     "metadata": {},
     "output_type": "display_data"
    }
   ],
   "source": [
    "# Subset the data in singel regression\n",
    "house = house[[\"price\", \"surface_of_good\", \"garden_area\",\"terrace_area\",\"postal_code\", \"province\", \"state_of_building\", \"property_subtype\", \"number_of_facades\", \"swimming_pool\", \"open_fire\", \"fully_equipped_kitchen\"]]\n",
    "#house = replace_outliers(house, [\"terrace_area\"])\n",
    "house['postal_code'] = house['postal_code'].astype(str).str[:2]\n",
    "#plt.scatter(house[\"terrace_area\"], house[\"price\"])\n",
    "plist = [\"province\", \"postal_code\"]\n",
    "clist = [\"state_of_building\", \"property_subtype\"]\n",
    "house = transform_categorical(house, plist)\n",
    "house = tranform_label_encoder(house, clist)\n",
    "house = replace_null_min_one(house, [\"price\"])\n",
    "#house = droping_null(house, [\"price\"])\n",
    "\n",
    "\n",
    "X, y = create_X_y(house, \"price\")\n",
    "X_train, X_test, y_train, y_test = train_test_split(X, y, test_size= 0.2, random_state=40 )\n",
    "X_train = replace_null_mean(X_train, [\"surface_of_good\", \"garden_area\", \"terrace_area\"])\n",
    "X_train = replace_null_median(X_train, [\"number_of_facades\"])\n",
    "X_train = replace_null_to_zero(X_train, [\"swimming_pool\"])\n",
    "columns_with_null = X_train.columns[X_train.isnull().any()].tolist()\n",
    "X_train = replace_null_to_zero(X_train, columns_with_null)\n",
    "#X_test = replace_null_mean(X_test, [\"surface_of_good\"])\n",
    "\n",
    "X_test = replace_null_mean(X_test, [\"surface_of_good\", \"garden_area\", \"terrace_area\"])\n",
    "X_test = replace_null_median(X_test, [\"number_of_facades\"])\n",
    "X_test = replace_null_to_zero(X_test, [\"swimming_pool\"])\n",
    "columns_with_null = X_test.columns[X_test.isnull().any()].tolist()\n",
    "X_test = replace_null_to_zero(X_test, columns_with_null)\n",
    "\n",
    "\n",
    "regressor = LinearRegression()\n",
    "regressor.fit(X_train, y_train)\n",
    "scoretrain = regressor.score(X_train, y_train)\n",
    "scoretest = regressor.score(X_test, y_test)\n",
    "y_pred = regressor.predict(X_test)\n",
    "score2 = r2_score(y_test, y_pred)\n",
    "print(f\"the score is (train):{scoretrain}\\n\"\n",
    "      f\"the score is (test): {scoretest}\\n\"\n",
    "      f\"the Rscore is: {score2}\")\n",
    "\n",
    "e = y_test - y_pred\n",
    "plt.scatter(e, y_pred)\n",
    "\n"
   ]
  },
  {
   "cell_type": "code",
   "execution_count": 142,
   "metadata": {},
   "outputs": [
    {
     "data": {
      "text/html": [
       "<div>\n",
       "<style scoped>\n",
       "    .dataframe tbody tr th:only-of-type {\n",
       "        vertical-align: middle;\n",
       "    }\n",
       "\n",
       "    .dataframe tbody tr th {\n",
       "        vertical-align: top;\n",
       "    }\n",
       "\n",
       "    .dataframe thead th {\n",
       "        text-align: right;\n",
       "    }\n",
       "</style>\n",
       "<table border=\"1\" class=\"dataframe\">\n",
       "  <thead>\n",
       "    <tr style=\"text-align: right;\">\n",
       "      <th></th>\n",
       "      <th>surface_of_good</th>\n",
       "      <th>garden_area</th>\n",
       "      <th>terrace_area</th>\n",
       "      <th>state_of_building</th>\n",
       "      <th>property_subtype</th>\n",
       "      <th>number_of_facades</th>\n",
       "      <th>swimming_pool</th>\n",
       "      <th>open_fire</th>\n",
       "      <th>fully_equipped_kitchen</th>\n",
       "      <th>province_antwerpen</th>\n",
       "      <th>...</th>\n",
       "      <th>postal_code_90</th>\n",
       "      <th>postal_code_91</th>\n",
       "      <th>postal_code_92</th>\n",
       "      <th>postal_code_93</th>\n",
       "      <th>postal_code_94</th>\n",
       "      <th>postal_code_95</th>\n",
       "      <th>postal_code_96</th>\n",
       "      <th>postal_code_97</th>\n",
       "      <th>postal_code_98</th>\n",
       "      <th>postal_code_99</th>\n",
       "    </tr>\n",
       "  </thead>\n",
       "  <tbody>\n",
       "    <tr>\n",
       "      <th>8551</th>\n",
       "      <td>929.0</td>\n",
       "      <td>800.000000</td>\n",
       "      <td>32.766764</td>\n",
       "      <td>4</td>\n",
       "      <td>0</td>\n",
       "      <td>2.0</td>\n",
       "      <td>0.0</td>\n",
       "      <td>1</td>\n",
       "      <td>0.0</td>\n",
       "      <td>0.0</td>\n",
       "      <td>...</td>\n",
       "      <td>0.0</td>\n",
       "      <td>0.0</td>\n",
       "      <td>0.0</td>\n",
       "      <td>0.0</td>\n",
       "      <td>0.0</td>\n",
       "      <td>0.0</td>\n",
       "      <td>0.0</td>\n",
       "      <td>0.0</td>\n",
       "      <td>0.0</td>\n",
       "      <td>0.0</td>\n",
       "    </tr>\n",
       "    <tr>\n",
       "      <th>6421</th>\n",
       "      <td>200.0</td>\n",
       "      <td>533.841851</td>\n",
       "      <td>32.766764</td>\n",
       "      <td>3</td>\n",
       "      <td>7</td>\n",
       "      <td>2.0</td>\n",
       "      <td>0.0</td>\n",
       "      <td>0</td>\n",
       "      <td>1.0</td>\n",
       "      <td>0.0</td>\n",
       "      <td>...</td>\n",
       "      <td>0.0</td>\n",
       "      <td>0.0</td>\n",
       "      <td>0.0</td>\n",
       "      <td>0.0</td>\n",
       "      <td>0.0</td>\n",
       "      <td>0.0</td>\n",
       "      <td>0.0</td>\n",
       "      <td>0.0</td>\n",
       "      <td>0.0</td>\n",
       "      <td>0.0</td>\n",
       "    </tr>\n",
       "    <tr>\n",
       "      <th>6439</th>\n",
       "      <td>580.0</td>\n",
       "      <td>533.841851</td>\n",
       "      <td>32.766764</td>\n",
       "      <td>6</td>\n",
       "      <td>7</td>\n",
       "      <td>4.0</td>\n",
       "      <td>0.0</td>\n",
       "      <td>0</td>\n",
       "      <td>0.0</td>\n",
       "      <td>0.0</td>\n",
       "      <td>...</td>\n",
       "      <td>0.0</td>\n",
       "      <td>0.0</td>\n",
       "      <td>0.0</td>\n",
       "      <td>0.0</td>\n",
       "      <td>0.0</td>\n",
       "      <td>0.0</td>\n",
       "      <td>0.0</td>\n",
       "      <td>0.0</td>\n",
       "      <td>0.0</td>\n",
       "      <td>0.0</td>\n",
       "    </tr>\n",
       "    <tr>\n",
       "      <th>11285</th>\n",
       "      <td>0.0</td>\n",
       "      <td>533.841851</td>\n",
       "      <td>21.000000</td>\n",
       "      <td>1</td>\n",
       "      <td>7</td>\n",
       "      <td>3.0</td>\n",
       "      <td>0.0</td>\n",
       "      <td>0</td>\n",
       "      <td>1.0</td>\n",
       "      <td>0.0</td>\n",
       "      <td>...</td>\n",
       "      <td>0.0</td>\n",
       "      <td>0.0</td>\n",
       "      <td>0.0</td>\n",
       "      <td>0.0</td>\n",
       "      <td>0.0</td>\n",
       "      <td>0.0</td>\n",
       "      <td>0.0</td>\n",
       "      <td>0.0</td>\n",
       "      <td>0.0</td>\n",
       "      <td>1.0</td>\n",
       "    </tr>\n",
       "    <tr>\n",
       "      <th>2862</th>\n",
       "      <td>418.0</td>\n",
       "      <td>533.841851</td>\n",
       "      <td>32.766764</td>\n",
       "      <td>0</td>\n",
       "      <td>7</td>\n",
       "      <td>4.0</td>\n",
       "      <td>0.0</td>\n",
       "      <td>0</td>\n",
       "      <td>1.0</td>\n",
       "      <td>0.0</td>\n",
       "      <td>...</td>\n",
       "      <td>0.0</td>\n",
       "      <td>0.0</td>\n",
       "      <td>0.0</td>\n",
       "      <td>0.0</td>\n",
       "      <td>0.0</td>\n",
       "      <td>0.0</td>\n",
       "      <td>0.0</td>\n",
       "      <td>0.0</td>\n",
       "      <td>0.0</td>\n",
       "      <td>0.0</td>\n",
       "    </tr>\n",
       "  </tbody>\n",
       "</table>\n",
       "<p>5 rows × 100 columns</p>\n",
       "</div>"
      ],
      "text/plain": [
       "       surface_of_good  garden_area  terrace_area  state_of_building  \\\n",
       "8551             929.0   800.000000     32.766764                  4   \n",
       "6421             200.0   533.841851     32.766764                  3   \n",
       "6439             580.0   533.841851     32.766764                  6   \n",
       "11285              0.0   533.841851     21.000000                  1   \n",
       "2862             418.0   533.841851     32.766764                  0   \n",
       "\n",
       "       property_subtype  number_of_facades  swimming_pool  open_fire  \\\n",
       "8551                  0                2.0            0.0          1   \n",
       "6421                  7                2.0            0.0          0   \n",
       "6439                  7                4.0            0.0          0   \n",
       "11285                 7                3.0            0.0          0   \n",
       "2862                  7                4.0            0.0          0   \n",
       "\n",
       "       fully_equipped_kitchen  province_antwerpen  ...  postal_code_90  \\\n",
       "8551                      0.0                 0.0  ...             0.0   \n",
       "6421                      1.0                 0.0  ...             0.0   \n",
       "6439                      0.0                 0.0  ...             0.0   \n",
       "11285                     1.0                 0.0  ...             0.0   \n",
       "2862                      1.0                 0.0  ...             0.0   \n",
       "\n",
       "       postal_code_91  postal_code_92  postal_code_93  postal_code_94  \\\n",
       "8551              0.0             0.0             0.0             0.0   \n",
       "6421              0.0             0.0             0.0             0.0   \n",
       "6439              0.0             0.0             0.0             0.0   \n",
       "11285             0.0             0.0             0.0             0.0   \n",
       "2862              0.0             0.0             0.0             0.0   \n",
       "\n",
       "       postal_code_95  postal_code_96  postal_code_97  postal_code_98  \\\n",
       "8551              0.0             0.0             0.0             0.0   \n",
       "6421              0.0             0.0             0.0             0.0   \n",
       "6439              0.0             0.0             0.0             0.0   \n",
       "11285             0.0             0.0             0.0             0.0   \n",
       "2862              0.0             0.0             0.0             0.0   \n",
       "\n",
       "       postal_code_99  \n",
       "8551              0.0  \n",
       "6421              0.0  \n",
       "6439              0.0  \n",
       "11285             1.0  \n",
       "2862              0.0  \n",
       "\n",
       "[5 rows x 100 columns]"
      ]
     },
     "execution_count": 142,
     "metadata": {},
     "output_type": "execute_result"
    }
   ],
   "source": [
    "X_train.head()"
   ]
  }
 ],
 "metadata": {
  "kernelspec": {
   "display_name": "BeCodeEnv",
   "language": "python",
   "name": "python3"
  },
  "language_info": {
   "codemirror_mode": {
    "name": "ipython",
    "version": 3
   },
   "file_extension": ".py",
   "mimetype": "text/x-python",
   "name": "python",
   "nbconvert_exporter": "python",
   "pygments_lexer": "ipython3",
   "version": "3.12.2"
  }
 },
 "nbformat": 4,
 "nbformat_minor": 2
}
