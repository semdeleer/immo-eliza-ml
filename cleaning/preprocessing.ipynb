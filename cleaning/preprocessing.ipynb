{
 "cells": [
  {
   "cell_type": "code",
   "execution_count": 96,
   "metadata": {},
   "outputs": [],
   "source": [
    "import pandas as pd\n",
    "import seaborn as sns"
   ]
  },
  {
   "cell_type": "markdown",
   "metadata": {},
   "source": [
    "## Data cleaning"
   ]
  },
  {
   "cell_type": "markdown",
   "metadata": {},
   "source": [
    "### Data import"
   ]
  },
  {
   "cell_type": "code",
   "execution_count": 97,
   "metadata": {},
   "outputs": [],
   "source": [
    "url = r\"..\\data\\raw\\clean_house.csv\"\n",
    "house = pd.read_csv(url, sep=\",\")"
   ]
  },
  {
   "cell_type": "code",
   "execution_count": 98,
   "metadata": {},
   "outputs": [
    {
     "data": {
      "text/html": [
       "<div>\n",
       "<style scoped>\n",
       "    .dataframe tbody tr th:only-of-type {\n",
       "        vertical-align: middle;\n",
       "    }\n",
       "\n",
       "    .dataframe tbody tr th {\n",
       "        vertical-align: top;\n",
       "    }\n",
       "\n",
       "    .dataframe thead th {\n",
       "        text-align: right;\n",
       "    }\n",
       "</style>\n",
       "<table border=\"1\" class=\"dataframe\">\n",
       "  <thead>\n",
       "    <tr style=\"text-align: right;\">\n",
       "      <th></th>\n",
       "      <th>property_id</th>\n",
       "      <th>locality_name</th>\n",
       "      <th>postal_code</th>\n",
       "      <th>latitude</th>\n",
       "      <th>longitude</th>\n",
       "      <th>property_type</th>\n",
       "      <th>property_subtype</th>\n",
       "      <th>price</th>\n",
       "      <th>type_of_sale</th>\n",
       "      <th>number_of_rooms</th>\n",
       "      <th>...</th>\n",
       "      <th>terrace</th>\n",
       "      <th>terrace_area</th>\n",
       "      <th>garden</th>\n",
       "      <th>garden_area</th>\n",
       "      <th>surface_of_good</th>\n",
       "      <th>number_of_facades</th>\n",
       "      <th>swimming_pool</th>\n",
       "      <th>state_of_building</th>\n",
       "      <th>main_city</th>\n",
       "      <th>province</th>\n",
       "    </tr>\n",
       "  </thead>\n",
       "  <tbody>\n",
       "    <tr>\n",
       "      <th>0</th>\n",
       "      <td>11157483</td>\n",
       "      <td>ronse</td>\n",
       "      <td>9600</td>\n",
       "      <td>50.741809</td>\n",
       "      <td>3.607601</td>\n",
       "      <td>HOUSE</td>\n",
       "      <td>HOUSE</td>\n",
       "      <td>245000.0</td>\n",
       "      <td>BUY_REGULAR</td>\n",
       "      <td>NaN</td>\n",
       "      <td>...</td>\n",
       "      <td>1.0</td>\n",
       "      <td>13.0</td>\n",
       "      <td>1.0</td>\n",
       "      <td>161.0</td>\n",
       "      <td>250.0</td>\n",
       "      <td>2.0</td>\n",
       "      <td>0.0</td>\n",
       "      <td>GOOD</td>\n",
       "      <td>ronse</td>\n",
       "      <td>oost-vlaanderen</td>\n",
       "    </tr>\n",
       "    <tr>\n",
       "      <th>1</th>\n",
       "      <td>11156843</td>\n",
       "      <td>merelbeke</td>\n",
       "      <td>9820</td>\n",
       "      <td>51.019250</td>\n",
       "      <td>3.760957</td>\n",
       "      <td>HOUSE</td>\n",
       "      <td>HOUSE</td>\n",
       "      <td>315000.0</td>\n",
       "      <td>BUY_REGULAR</td>\n",
       "      <td>NaN</td>\n",
       "      <td>...</td>\n",
       "      <td>1.0</td>\n",
       "      <td>23.0</td>\n",
       "      <td>NaN</td>\n",
       "      <td>NaN</td>\n",
       "      <td>77.0</td>\n",
       "      <td>2.0</td>\n",
       "      <td>NaN</td>\n",
       "      <td>GOOD</td>\n",
       "      <td>merelbeke</td>\n",
       "      <td>oost-vlaanderen</td>\n",
       "    </tr>\n",
       "    <tr>\n",
       "      <th>2</th>\n",
       "      <td>11161362</td>\n",
       "      <td>forêt</td>\n",
       "      <td>4870</td>\n",
       "      <td>50.563966</td>\n",
       "      <td>5.675489</td>\n",
       "      <td>HOUSE</td>\n",
       "      <td>HOUSE</td>\n",
       "      <td>325000.0</td>\n",
       "      <td>BUY_REGULAR</td>\n",
       "      <td>NaN</td>\n",
       "      <td>...</td>\n",
       "      <td>1.0</td>\n",
       "      <td>16.0</td>\n",
       "      <td>1.0</td>\n",
       "      <td>420.0</td>\n",
       "      <td>572.0</td>\n",
       "      <td>3.0</td>\n",
       "      <td>NaN</td>\n",
       "      <td>AS_NEW</td>\n",
       "      <td>trooz</td>\n",
       "      <td>luik</td>\n",
       "    </tr>\n",
       "  </tbody>\n",
       "</table>\n",
       "<p>3 rows × 25 columns</p>\n",
       "</div>"
      ],
      "text/plain": [
       "   property_id locality_name  postal_code   latitude  longitude property_type  \\\n",
       "0     11157483         ronse         9600  50.741809   3.607601         HOUSE   \n",
       "1     11156843     merelbeke         9820  51.019250   3.760957         HOUSE   \n",
       "2     11161362         forêt         4870  50.563966   5.675489         HOUSE   \n",
       "\n",
       "  property_subtype     price type_of_sale  number_of_rooms  ...  terrace  \\\n",
       "0            HOUSE  245000.0  BUY_REGULAR              NaN  ...      1.0   \n",
       "1            HOUSE  315000.0  BUY_REGULAR              NaN  ...      1.0   \n",
       "2            HOUSE  325000.0  BUY_REGULAR              NaN  ...      1.0   \n",
       "\n",
       "  terrace_area  garden  garden_area  surface_of_good  number_of_facades  \\\n",
       "0         13.0     1.0        161.0            250.0                2.0   \n",
       "1         23.0     NaN          NaN             77.0                2.0   \n",
       "2         16.0     1.0        420.0            572.0                3.0   \n",
       "\n",
       "   swimming_pool  state_of_building  main_city         province  \n",
       "0            0.0               GOOD      ronse  oost-vlaanderen  \n",
       "1            NaN               GOOD  merelbeke  oost-vlaanderen  \n",
       "2            NaN             AS_NEW      trooz             luik  \n",
       "\n",
       "[3 rows x 25 columns]"
      ]
     },
     "execution_count": 98,
     "metadata": {},
     "output_type": "execute_result"
    }
   ],
   "source": [
    "house.head(3)"
   ]
  },
  {
   "cell_type": "code",
   "execution_count": 99,
   "metadata": {},
   "outputs": [
    {
     "name": "stdout",
     "output_type": "stream",
     "text": [
      "There are 4154 rows of data\n"
     ]
    }
   ],
   "source": [
    "print(\"There are {} rows of data\".format(len(statehouse)))"
   ]
  },
  {
   "cell_type": "markdown",
   "metadata": {},
   "source": [
    "Subsetting data to the state of the building"
   ]
  },
  {
   "cell_type": "code",
   "execution_count": 100,
   "metadata": {},
   "outputs": [
    {
     "data": {
      "text/plain": [
       "property_id                  0\n",
       "locality_name                0\n",
       "postal_code                  0\n",
       "latitude                   184\n",
       "longitude                  184\n",
       "property_type                0\n",
       "property_subtype             0\n",
       "price                        0\n",
       "type_of_sale                 0\n",
       "number_of_rooms            771\n",
       "living_area                  0\n",
       "kitchen_type              1272\n",
       "fully_equipped_kitchen     880\n",
       "furnished                 1828\n",
       "open_fire                    0\n",
       "terrace                   1342\n",
       "terrace_area              1963\n",
       "garden                    1715\n",
       "garden_area               1805\n",
       "surface_of_good              0\n",
       "number_of_facades          693\n",
       "swimming_pool             1814\n",
       "state_of_building          487\n",
       "main_city                    0\n",
       "province                     0\n",
       "dtype: int64"
      ]
     },
     "execution_count": 100,
     "metadata": {},
     "output_type": "execute_result"
    }
   ],
   "source": [
    "statehouse = house[(house[\"province\"] == \"limburg\") | (house[\"province\"] == \"west-vlaanderen\")]\n",
    "statehouse.isnull().sum()"
   ]
  },
  {
   "cell_type": "markdown",
   "metadata": {},
   "source": [
    "Replacing value in garden with numeric value"
   ]
  },
  {
   "cell_type": "code",
   "execution_count": 101,
   "metadata": {},
   "outputs": [],
   "source": [
    "condition_1 = (statehouse['garden'] == 1.0) & (statehouse['garden_area'].isnull())\n",
    "statehouse.loc[condition_1, 'garden_area'] = statehouse['garden_area'].median()\n",
    "condition_2 = (statehouse['garden'] == 0) & (statehouse['garden_area'].isnull())\n",
    "statehouse.loc[condition_2, 'garden_area'] = 0\n",
    "condition_3 = (statehouse['garden'].isnull()) & (statehouse['garden_area'].isnull())\n",
    "statehouse.loc[condition_3, 'garden_area'] = -1"
   ]
  },
  {
   "cell_type": "markdown",
   "metadata": {},
   "source": [
    "Replacing values in terrace with numeric values"
   ]
  },
  {
   "cell_type": "code",
   "execution_count": 102,
   "metadata": {},
   "outputs": [],
   "source": [
    "condition_1 = (statehouse['terrace'] == 1.0) & (statehouse['terrace_area'].isnull())\n",
    "statehouse.loc[condition_1, 'terrace_area'] = statehouse['terrace_area'].median()\n",
    "condition_2 = (statehouse['terrace'] == 0) & (statehouse['terrace_area'].isnull())\n",
    "statehouse.loc[condition_2, 'terrace_area'] = 0\n",
    "condition_3 = (statehouse['terrace'].isnull()) & (statehouse['terrace_area'].isnull())\n",
    "statehouse.loc[condition_3, 'terrace_area'] = -1"
   ]
  },
  {
   "cell_type": "markdown",
   "metadata": {},
   "source": [
    "Replacing values in number_of_rooms with the median"
   ]
  },
  {
   "cell_type": "code",
   "execution_count": 103,
   "metadata": {},
   "outputs": [],
   "source": [
    "statehouse[\"number_of_rooms\"].mean(), statehouse[\"number_of_rooms\"].median()\n",
    "condition_1 = (statehouse[\"number_of_rooms\"].isnull())\n",
    "statehouse.loc[condition_1, \"number_of_rooms\"] = statehouse[\"number_of_rooms\"].median()"
   ]
  },
  {
   "cell_type": "markdown",
   "metadata": {},
   "source": [
    "Replacing values in number of facades with mean"
   ]
  },
  {
   "cell_type": "code",
   "execution_count": 104,
   "metadata": {},
   "outputs": [],
   "source": [
    "statehouse[\"number_of_facades\"].mean(), statehouse[\"number_of_facades\"].median()\n",
    "condition_1 = (statehouse[\"number_of_facades\"].isnull())\n",
    "statehouse.loc[condition_1, \"number_of_facades\"] = statehouse[\"number_of_facades\"].median()"
   ]
  },
  {
   "cell_type": "markdown",
   "metadata": {},
   "source": [
    "The cleaned dataframe"
   ]
  },
  {
   "cell_type": "code",
   "execution_count": 105,
   "metadata": {},
   "outputs": [
    {
     "name": "stdout",
     "output_type": "stream",
     "text": [
      "3\n"
     ]
    },
    {
     "data": {
      "text/plain": [
       "price                0\n",
       "number_of_rooms      0\n",
       "terrace_area         0\n",
       "garden_area          0\n",
       "surface_of_good      0\n",
       "number_of_facades    0\n",
       "dtype: int64"
      ]
     },
     "execution_count": 105,
     "metadata": {},
     "output_type": "execute_result"
    }
   ],
   "source": [
    "corrhouse = statehouse[[\"price\", \"number_of_rooms\", \"terrace_area\", \"garden_area\", \"surface_of_good\", \"number_of_facades\"]]\n",
    "print(round(corrhouse[\"number_of_facades\"].mean()))\n",
    "corrhouse.isnull().sum()"
   ]
  },
  {
   "cell_type": "markdown",
   "metadata": {},
   "source": [
    "The correlation in the dataframe in a heatmap"
   ]
  },
  {
   "cell_type": "code",
   "execution_count": 106,
   "metadata": {},
   "outputs": [
    {
     "data": {
      "text/plain": [
       "<Axes: >"
      ]
     },
     "execution_count": 106,
     "metadata": {},
     "output_type": "execute_result"
    },
    {
     "data": {
      "image/png": "[encoded data removed]",
      "text/plain": [
       "<Figure size 640x480 with 2 Axes>"
      ]
     },
     "metadata": {},
     "output_type": "display_data"
    }
   ],
   "source": [
    "sns.heatmap(corrhouse.corr(), annot=True)"
   ]
  }
 ],
 "metadata": {
  "kernelspec": {
   "display_name": "BeCodeEnv",
   "language": "python",
   "name": "python3"
  },
  "language_info": {
   "codemirror_mode": {
    "name": "ipython",
    "version": 3
   },
   "file_extension": ".py",
   "mimetype": "text/x-python",
   "name": "python",
   "nbconvert_exporter": "python",
   "pygments_lexer": "ipython3",
   "version": "3.12.2"
  }
 },
 "nbformat": 4,
 "nbformat_minor": 2
}
